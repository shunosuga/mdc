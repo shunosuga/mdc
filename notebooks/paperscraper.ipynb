{
 "cells": [
  {
   "cell_type": "code",
   "execution_count": 1,
   "id": "08a7e442",
   "metadata": {},
   "outputs": [],
   "source": [
    "from paperscraper.pdf import save_pdf, save_pdf_from_dump"
   ]
  },
  {
   "cell_type": "code",
   "execution_count": null,
   "id": "3898c021",
   "metadata": {},
   "outputs": [
    {
     "name": "stdout",
     "output_type": "stream",
     "text": [
      "WARNING:paperscraper.pdf.pdf:Could not download from: https://doi.org/10.1101/2020.11.24.393405 - 403 Client Error: Forbidden for url: https://www.biorxiv.org/lookup/doi/10.1101/2020.11.24.393405. \n",
      "INFO:paperscraper.pdf.pdf:BiorXiv PDFs can be downloaded from a S3 bucket with a requester-pay option. Consider setting `AWS_ACCESS_KEY_ID` and `AWS_SECRET_ACCESS_KEY` to use this option. Pricing is a few cent per GB, thus each request costs < 0.1 cents. For details see: https://www.biorxiv.org/tdm\n",
      "INFO:paperscraper.pdf.fallbacks:Converted DOI 10.1101/2020.11.24.393405 to PMCID PMC7709169.\n",
      "INFO:paperscraper.pdf.fallbacks:Attempting to download XML from BioC-PMC URL: https://www.ncbi.nlm.nih.gov/research/bionlp/RESTful/pmcoa.cgi/BioC_xml/PMC7709169/unicode\n",
      "INFO:paperscraper.pdf.fallbacks:Successfully downloaded XML for DOI 10.1101/2020.11.24.393405 to gt4sd_paper.xml.\n"
     ]
    }
   ],
   "source": [
    "paper_data = {'doi': \"10.1101/2020.11.24.393405\"}\n",
    "save_pdf(paper_data, filepath='gt4sd_paper.pdf')"
   ]
  },
  {
   "cell_type": "code",
   "execution_count": null,
   "id": "a2987728",
   "metadata": {},
   "outputs": [],
   "source": [
    "save_pdf_from_dump()"
   ]
  }
 ],
 "metadata": {
  "kernelspec": {
   "display_name": "mdc",
   "language": "python",
   "name": "python3"
  },
  "language_info": {
   "codemirror_mode": {
    "name": "ipython",
    "version": 3
   },
   "file_extension": ".py",
   "mimetype": "text/x-python",
   "name": "python",
   "nbconvert_exporter": "python",
   "pygments_lexer": "ipython3",
   "version": "3.13.6"
  }
 },
 "nbformat": 4,
 "nbformat_minor": 5
}
